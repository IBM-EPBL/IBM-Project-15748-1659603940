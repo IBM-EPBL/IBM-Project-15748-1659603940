{
 "cells": [
  {
   "cell_type": "markdown",
   "id": "3bd41356",
   "metadata": {},
   "source": [
    "Load necessary libraries"
   ]
  },
  {
   "cell_type": "code",
   "execution_count": 2,
   "id": "f9bec47e",
   "metadata": {},
   "outputs": [],
   "source": [
    "from tensorflow.keras.models import load_model\n",
    "from keras.preprocessing import image"
   ]
  },
  {
   "cell_type": "markdown",
   "id": "efb621b2",
   "metadata": {},
   "source": [
    "Load the saved model using load_model"
   ]
  },
  {
   "cell_type": "code",
   "execution_count": 4,
   "id": "aa59dba0",
   "metadata": {},
   "outputs": [],
   "source": [
    "model = load_model('ECG.h5')\n",
    "#load the model for testing"
   ]
  },
  {
   "cell_type": "markdown",
   "id": "fabbb2c4",
   "metadata": {},
   "source": [
    "Taking an image as input and checking the results"
   ]
  },
  {
   "cell_type": "code",
   "execution_count": null,
   "id": "bc7efe8e",
   "metadata": {},
   "outputs": [],
   "source": []
  },
  {
   "cell_type": "code",
   "execution_count": null,
   "id": "83bf2420",
   "metadata": {},
   "outputs": [],
   "source": []
  },
  {
   "cell_type": "code",
   "execution_count": null,
   "id": "edc96e42",
   "metadata": {},
   "outputs": [],
   "source": []
  }
 ],
 "metadata": {
  "kernelspec": {
   "display_name": "Python 3.9.4 64-bit",
   "language": "python",
   "name": "python3"
  },
  "language_info": {
   "codemirror_mode": {
    "name": "ipython",
    "version": 3
   },
   "file_extension": ".py",
   "mimetype": "text/x-python",
   "name": "python",
   "nbconvert_exporter": "python",
   "pygments_lexer": "ipython3",
   "version": "3.9.4"
  },
  "vscode": {
   "interpreter": {
    "hash": "9676a5032d160373536433ba412a75a528f47aec9b24cb8672c7566316c56153"
   }
  }
 },
 "nbformat": 4,
 "nbformat_minor": 5
}
