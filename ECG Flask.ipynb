{
 "cells": [
  {
   "cell_type": "markdown",
   "id": "3bd41356",
   "metadata": {},
   "source": [
    "Load necessary libraries"
   ]
  },
  {
   "cell_type": "code",
   "execution_count": 2,
   "id": "f9bec47e",
   "metadata": {},
   "outputs": [],
   "source": [
    "from tensorflow.keras.models import load_model\n",
    "from keras.preprocessing import image"
   ]
  },
  {
   "cell_type": "markdown",
   "id": "efb621b2",
   "metadata": {},
   "source": [
    "Load the saved model using load_model"
   ]
  },
  {
   "cell_type": "code",
   "execution_count": 4,
   "id": "aa59dba0",
   "metadata": {},
   "outputs": [],
   "source": [
    "model = load_model('ECG.h5')\n",
    "#load the model for testing"
   ]
  },
  {
   "cell_type": "markdown",
   "id": "fabbb2c4",
   "metadata": {},
   "source": [
    "Taking an image as input and checking the results"
   ]
  },
  {
   "cell_type": "code",
   "execution_count": null,
   "id": "bc7efe8e",
   "metadata": {},
   "outputs": [],
   "source": [
    "img = image.load_img(\"uploads/PAC.png\",target_size=(64,64))\n",
    "x = image.img_to_array(img)\n",
    "x = np.expand_dims(x,axis=0)\n",
    "pred = model.predict_classes(x)\n",
    "pred"
   ]
  },
  {
   "cell_type": "code",
   "execution_count": null,
   "id": "83bf2420",
   "metadata": {},
   "outputs": [],
   "source": [
    "index=['Left Bundle Branch Block','Normal','Premature Atrial Contraction',\n",
    "        'Premature Ventricular Contraction','Right Bundle Branch Block','Ventricular Fibrillation']\n",
    "result = str(index[pred[0]])\n",
    "result"
   ]
  },
  {
   "cell_type": "code",
   "execution_count": null,
   "id": "edc96e42",
   "metadata": {},
   "outputs": [],
   "source": []
  }
 ],
 "metadata": {
  "kernelspec": {
   "display_name": "Python 3.9.4 64-bit",
   "language": "python",
   "name": "python3"
  },
  "language_info": {
   "codemirror_mode": {
    "name": "ipython",
    "version": 3
   },
   "file_extension": ".py",
   "mimetype": "text/x-python",
   "name": "python",
   "nbconvert_exporter": "python",
   "pygments_lexer": "ipython3",
   "version": "3.9.4"
  },
  "vscode": {
   "interpreter": {
    "hash": "9676a5032d160373536433ba412a75a528f47aec9b24cb8672c7566316c56153"
   }
  }
 },
 "nbformat": 4,
 "nbformat_minor": 5
}
